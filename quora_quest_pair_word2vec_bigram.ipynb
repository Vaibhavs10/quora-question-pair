{
 "cells": [
  {
   "cell_type": "code",
   "execution_count": 10,
   "metadata": {
    "collapsed": false
   },
   "outputs": [],
   "source": [
    "import re\n",
    "\n",
    "def split_blob(blob):\n",
    "    try:\n",
    "        blob = blob.strip().encode('ascii', 'ignore').lower()\n",
    "        blob = blob.replace(\"'s\",'').replace('-', ' ').replace('\\n', ' ')\n",
    "        blob = re.sub(r\"[^a-zA-Z0-9 ]\", '', blob)\n",
    "        return blob.split()\n",
    "    except:\n",
    "        return [\"NA\"]"
   ]
  },
  {
   "cell_type": "code",
   "execution_count": 4,
   "metadata": {
    "collapsed": true
   },
   "outputs": [],
   "source": [
    "from gensim.models import Phrases\n",
    "import gensim\n",
    "from gensim.models import word2vec\n",
    "import pandas as pd"
   ]
  },
  {
   "cell_type": "code",
   "execution_count": 5,
   "metadata": {
    "collapsed": true
   },
   "outputs": [],
   "source": [
    "train = pd.read_csv('data/questions.csv')"
   ]
  },
  {
   "cell_type": "code",
   "execution_count": 6,
   "metadata": {
    "collapsed": true
   },
   "outputs": [],
   "source": [
    "train['combine_questions'] = train.apply(lambda row: str(row['question1']) + \" \" + str(row['question2']), axis=1)"
   ]
  },
  {
   "cell_type": "code",
   "execution_count": 11,
   "metadata": {
    "collapsed": false
   },
   "outputs": [],
   "source": [
    "train['training_data'] = train['combine_questions'].apply(split_blob)"
   ]
  },
  {
   "cell_type": "code",
   "execution_count": 12,
   "metadata": {
    "collapsed": true
   },
   "outputs": [],
   "source": [
    "bigram_transformer = Phrases(train['training_data'])"
   ]
  },
  {
   "cell_type": "code",
   "execution_count": 23,
   "metadata": {
    "collapsed": false
   },
   "outputs": [],
   "source": [
    "transformed_data = list(bigram_transformer[train['training_data']])"
   ]
  },
  {
   "cell_type": "code",
   "execution_count": 24,
   "metadata": {
    "collapsed": false
   },
   "outputs": [],
   "source": [
    "word2vec_model = word2vec.Word2Vec(transformed_data, size=200, window=4, min_count=5, workers=4, max_vocab_size = 120000)"
   ]
  },
  {
   "cell_type": "code",
   "execution_count": 26,
   "metadata": {
    "collapsed": false
   },
   "outputs": [
    {
     "data": {
      "text/plain": [
       "[(u'jammu', 0.8146021366119385),\n",
       " (u'iran', 0.8031575679779053),\n",
       " (u'bangladesh', 0.7878175973892212),\n",
       " (u'pakistan', 0.7641873359680176),\n",
       " (u'israel', 0.7632615566253662),\n",
       " (u'sri_lanka', 0.7536801695823669),\n",
       " (u'tamil_nadu', 0.7462540864944458),\n",
       " (u'isis', 0.7187197804450989),\n",
       " (u'hindus', 0.7179765701293945),\n",
       " (u'brahmins', 0.7158210873603821)]"
      ]
     },
     "execution_count": 26,
     "metadata": {},
     "output_type": "execute_result"
    }
   ],
   "source": [
    "word2vec_model.most_similar(\"kashmir\")"
   ]
  },
  {
   "cell_type": "code",
   "execution_count": 35,
   "metadata": {
    "collapsed": false,
    "scrolled": true
   },
   "outputs": [
    {
     "data": {
      "text/plain": [
       "[(u'iraq', 0.7738075852394104),\n",
       " (u'isis', 0.7504391670227051),\n",
       " (u'afghanistan', 0.7213971614837646),\n",
       " (u'iran', 0.7087596654891968),\n",
       " (u'russia', 0.694872260093689),\n",
       " (u'allies', 0.6933708190917969),\n",
       " (u'nato', 0.6872491240501404),\n",
       " (u'armenian_genocide', 0.6852936744689941),\n",
       " (u'conflict', 0.6832247972488403),\n",
       " (u'palestine', 0.6797256469726562)]"
      ]
     },
     "execution_count": 35,
     "metadata": {},
     "output_type": "execute_result"
    }
   ],
   "source": [
    "word2vec_model.most_similar(positive=['kashmir', 'syria'], negative=['india'])"
   ]
  },
  {
   "cell_type": "code",
   "execution_count": 31,
   "metadata": {
    "collapsed": false,
    "scrolled": true
   },
   "outputs": [
    {
     "data": {
      "text/plain": [
       "[(u'usa', 0.6124541759490967),\n",
       " (u'singapore', 0.5987396836280823),\n",
       " (u'uk', 0.5485321283340454),\n",
       " (u'canada', 0.5442662239074707),\n",
       " (u'united_states', 0.5430645942687988),\n",
       " (u'nepal', 0.5201982855796814),\n",
       " (u'ireland', 0.5135667324066162),\n",
       " (u'china', 0.5077223777770996),\n",
       " (u'dubai', 0.5010311603546143),\n",
       " (u'germany', 0.4991769790649414)]"
      ]
     },
     "execution_count": 31,
     "metadata": {},
     "output_type": "execute_result"
    }
   ],
   "source": [
    "word2vec_model.most_similar(positive=['india', 'congress'], negative=['bjp'])"
   ]
  },
  {
   "cell_type": "code",
   "execution_count": 32,
   "metadata": {
    "collapsed": false
   },
   "outputs": [
    {
     "data": {
      "text/plain": [
       "[(u'caste_based', 0.5749285221099854),\n",
       " (u'reservation_system', 0.5241735577583313),\n",
       " (u'black_money', 0.5209396481513977),\n",
       " (u'reservation', 0.5087084770202637),\n",
       " (u'pakistan', 0.4923049807548523),\n",
       " (u'narendra_modi', 0.47846412658691406),\n",
       " (u'swiss_bank', 0.4708438217639923),\n",
       " (u'swiss_banks', 0.46473225951194763),\n",
       " (u'nepal', 0.4560081362724304),\n",
       " (u'reservations', 0.4460293650627136)]"
      ]
     },
     "execution_count": 32,
     "metadata": {},
     "output_type": "execute_result"
    }
   ],
   "source": [
    "word2vec_model.most_similar(positive=['india', 'modi'], negative=['gandhi'])"
   ]
  },
  {
   "cell_type": "code",
   "execution_count": 34,
   "metadata": {
    "collapsed": false
   },
   "outputs": [
    {
     "data": {
      "text/plain": [
       "[(u'secretary', 0.4536139667034149),\n",
       " (u'candidate', 0.43228113651275635),\n",
       " (u'3rd', 0.4163534641265869),\n",
       " (u'allotted', 0.4160863757133484),\n",
       " (u'ranked', 0.4151337444782257),\n",
       " (u'xlri', 0.41386616230010986),\n",
       " (u'committee', 0.4038447439670563),\n",
       " (u'rigged', 0.398497998714447),\n",
       " (u'deemed', 0.395083487033844),\n",
       " (u'insead', 0.394257515668869)]"
      ]
     },
     "execution_count": 34,
     "metadata": {},
     "output_type": "execute_result"
    }
   ],
   "source": [
    "word2vec_model.most_similar(positive=['bjp'], negative=['modi'])"
   ]
  },
  {
   "cell_type": "code",
   "execution_count": 45,
   "metadata": {
    "collapsed": false
   },
   "outputs": [
    {
     "data": {
      "text/plain": [
       "[(u'rural', 0.5472148060798645),\n",
       " (u'tamilnadu', 0.544848620891571),\n",
       " (u'public_participation', 0.539079487323761),\n",
       " (u'service_providers', 0.5389277935028076),\n",
       " (u'gujarat', 0.5350437164306641),\n",
       " (u'academies', 0.5340667366981506),\n",
       " (u'west_bengal', 0.5267471671104431),\n",
       " (u'bihar', 0.5265513062477112),\n",
       " (u'development_companies', 0.5247739553451538),\n",
       " (u'tamil_nadu', 0.5210009217262268)]"
      ]
     },
     "execution_count": 45,
     "metadata": {},
     "output_type": "execute_result"
    }
   ],
   "source": [
    "word2vec_model.most_similar(positive=[\"india\", \"developing_countries\"], negative=[\"us\"])"
   ]
  },
  {
   "cell_type": "code",
   "execution_count": null,
   "metadata": {
    "collapsed": true
   },
   "outputs": [],
   "source": []
  }
 ],
 "metadata": {
  "anaconda-cloud": {},
  "kernelspec": {
   "display_name": "Python [default]",
   "language": "python",
   "name": "python2"
  },
  "language_info": {
   "codemirror_mode": {
    "name": "ipython",
    "version": 2
   },
   "file_extension": ".py",
   "mimetype": "text/x-python",
   "name": "python",
   "nbconvert_exporter": "python",
   "pygments_lexer": "ipython2",
   "version": "2.7.12"
  }
 },
 "nbformat": 4,
 "nbformat_minor": 1
}
