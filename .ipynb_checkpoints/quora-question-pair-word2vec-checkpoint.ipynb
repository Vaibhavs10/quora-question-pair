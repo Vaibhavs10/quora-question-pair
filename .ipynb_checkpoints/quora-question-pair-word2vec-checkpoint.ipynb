{
 "cells": [
  {
   "cell_type": "code",
   "execution_count": 1,
   "metadata": {
    "collapsed": true
   },
   "outputs": [],
   "source": [
    "import gensim\n",
    "from gensim.models import word2vec\n",
    "import pandas as pd\n",
    "from bs4 import BeautifulSoup\n",
    "import re\n",
    "import nltk.data\n",
    "from nltk.corpus import stopwords\n",
    "import numpy as np"
   ]
  },
  {
   "cell_type": "code",
   "execution_count": 2,
   "metadata": {
    "collapsed": true
   },
   "outputs": [],
   "source": [
    "train = pd.read_csv('data/questions.csv')"
   ]
  },
  {
   "cell_type": "code",
   "execution_count": 3,
   "metadata": {
    "collapsed": false
   },
   "outputs": [
    {
     "data": {
      "text/html": [
       "<div>\n",
       "<table border=\"1\" class=\"dataframe\">\n",
       "  <thead>\n",
       "    <tr style=\"text-align: right;\">\n",
       "      <th></th>\n",
       "      <th>id</th>\n",
       "      <th>qid1</th>\n",
       "      <th>qid2</th>\n",
       "      <th>question1</th>\n",
       "      <th>question2</th>\n",
       "      <th>is_duplicate</th>\n",
       "    </tr>\n",
       "  </thead>\n",
       "  <tbody>\n",
       "    <tr>\n",
       "      <th>0</th>\n",
       "      <td>0</td>\n",
       "      <td>1</td>\n",
       "      <td>2</td>\n",
       "      <td>What is the step by step guide to invest in sh...</td>\n",
       "      <td>What is the step by step guide to invest in sh...</td>\n",
       "      <td>0</td>\n",
       "    </tr>\n",
       "    <tr>\n",
       "      <th>1</th>\n",
       "      <td>1</td>\n",
       "      <td>3</td>\n",
       "      <td>4</td>\n",
       "      <td>What is the story of Kohinoor (Koh-i-Noor) Dia...</td>\n",
       "      <td>What would happen if the Indian government sto...</td>\n",
       "      <td>0</td>\n",
       "    </tr>\n",
       "    <tr>\n",
       "      <th>2</th>\n",
       "      <td>2</td>\n",
       "      <td>5</td>\n",
       "      <td>6</td>\n",
       "      <td>How can I increase the speed of my internet co...</td>\n",
       "      <td>How can Internet speed be increased by hacking...</td>\n",
       "      <td>0</td>\n",
       "    </tr>\n",
       "    <tr>\n",
       "      <th>3</th>\n",
       "      <td>3</td>\n",
       "      <td>7</td>\n",
       "      <td>8</td>\n",
       "      <td>Why am I mentally very lonely? How can I solve...</td>\n",
       "      <td>Find the remainder when [math]23^{24}[/math] i...</td>\n",
       "      <td>0</td>\n",
       "    </tr>\n",
       "    <tr>\n",
       "      <th>4</th>\n",
       "      <td>4</td>\n",
       "      <td>9</td>\n",
       "      <td>10</td>\n",
       "      <td>Which one dissolve in water quikly sugar, salt...</td>\n",
       "      <td>Which fish would survive in salt water?</td>\n",
       "      <td>0</td>\n",
       "    </tr>\n",
       "  </tbody>\n",
       "</table>\n",
       "</div>"
      ],
      "text/plain": [
       "   id  qid1  qid2                                          question1  \\\n",
       "0   0     1     2  What is the step by step guide to invest in sh...   \n",
       "1   1     3     4  What is the story of Kohinoor (Koh-i-Noor) Dia...   \n",
       "2   2     5     6  How can I increase the speed of my internet co...   \n",
       "3   3     7     8  Why am I mentally very lonely? How can I solve...   \n",
       "4   4     9    10  Which one dissolve in water quikly sugar, salt...   \n",
       "\n",
       "                                           question2  is_duplicate  \n",
       "0  What is the step by step guide to invest in sh...             0  \n",
       "1  What would happen if the Indian government sto...             0  \n",
       "2  How can Internet speed be increased by hacking...             0  \n",
       "3  Find the remainder when [math]23^{24}[/math] i...             0  \n",
       "4            Which fish would survive in salt water?             0  "
      ]
     },
     "execution_count": 3,
     "metadata": {},
     "output_type": "execute_result"
    }
   ],
   "source": [
    "train.head()"
   ]
  },
  {
   "cell_type": "code",
   "execution_count": 4,
   "metadata": {
    "collapsed": false
   },
   "outputs": [],
   "source": [
    "train['combine_questions'] = train.apply(lambda row: str(row['question1']) + \" \" + str(row['question2']), axis=1)"
   ]
  },
  {
   "cell_type": "code",
   "execution_count": 5,
   "metadata": {
    "collapsed": false
   },
   "outputs": [
    {
     "data": {
      "text/plain": [
       "'What is the step by step guide to invest in share market in india? What is the step by step guide to invest in share market?'"
      ]
     },
     "execution_count": 5,
     "metadata": {},
     "output_type": "execute_result"
    }
   ],
   "source": [
    "train['combine_questions'][0]"
   ]
  },
  {
   "cell_type": "code",
   "execution_count": 6,
   "metadata": {
    "collapsed": false
   },
   "outputs": [],
   "source": [
    "def question2list(question):\n",
    "    question = question.decode('utf8')\n",
    "    question_text = re.sub(\"[^a-zA-Z]\", \" \", question)\n",
    "    words = question.lower().split()\n",
    "    return(words)"
   ]
  },
  {
   "cell_type": "code",
   "execution_count": 7,
   "metadata": {
    "collapsed": true
   },
   "outputs": [],
   "source": [
    "tokenizer = nltk.data.load('tokenizers/punkt/english.pickle')"
   ]
  },
  {
   "cell_type": "code",
   "execution_count": 8,
   "metadata": {
    "collapsed": true
   },
   "outputs": [],
   "source": [
    "def question2sentences(question, tokenizer):\n",
    "    raw_sentences = tokenizer.tokenize(question.strip())\n",
    "    sentences = []\n",
    "    for raw_sentence in raw_sentences:\n",
    "        if len(raw_sentence) > 0:\n",
    "            sentences.append(question2list(raw_sentence))\n",
    "    return sentences"
   ]
  },
  {
   "cell_type": "code",
   "execution_count": 19,
   "metadata": {
    "collapsed": true
   },
   "outputs": [],
   "source": [
    "sentences = []"
   ]
  },
  {
   "cell_type": "code",
   "execution_count": 10,
   "metadata": {
    "collapsed": true
   },
   "outputs": [],
   "source": [
    "import sys\n",
    "reload(sys)\n",
    "sys.setdefaultencoding('utf8')"
   ]
  },
  {
   "cell_type": "code",
   "execution_count": 20,
   "metadata": {
    "collapsed": false
   },
   "outputs": [],
   "source": [
    "i=0\n",
    "for question in train['combine_questions']:\n",
    "    if (i+1)%1000 == 0:\n",
    "        print i+1\n",
    "    try:\n",
    "        sentences += question2sentences(question, tokenizer)\n",
    "        i+=1\n",
    "    except:\n",
    "        i+=1\n",
    "        continue"
   ]
  },
  {
   "cell_type": "code",
   "execution_count": 21,
   "metadata": {
    "collapsed": false
   },
   "outputs": [
    {
     "data": {
      "text/plain": [
       "900380"
      ]
     },
     "execution_count": 21,
     "metadata": {},
     "output_type": "execute_result"
    }
   ],
   "source": [
    "len(sentences)"
   ]
  },
  {
   "cell_type": "code",
   "execution_count": 22,
   "metadata": {
    "collapsed": true
   },
   "outputs": [],
   "source": [
    "num_features = 300\n",
    "min_word_count = 40\n",
    "num_workers = 4\n",
    "context = 10\n",
    "\n",
    "model = word2vec.Word2Vec(sentences,\n",
    "                          workers=num_workers,\n",
    "                          size=num_features,\n",
    "                          min_count=min_word_count,\n",
    "                          window=context)\n",
    "model.init_sims(replace=True)\n",
    "model.save(\"300features_40minwords_10context\")"
   ]
  },
  {
   "cell_type": "code",
   "execution_count": 33,
   "metadata": {
    "collapsed": false
   },
   "outputs": [
    {
     "data": {
      "text/plain": [
       "[(u'pune', 0.789021372795105),\n",
       " (u'chennai', 0.7834241390228271),\n",
       " (u'mumbai', 0.7538654208183289),\n",
       " (u'bangalore', 0.7464267015457153),\n",
       " (u'hyderabad', 0.7126978039741516),\n",
       " (u'residential', 0.6956325173377991),\n",
       " (u'jaipur', 0.688156008720398),\n",
       " (u'kolkata', 0.6880062222480774),\n",
       " (u'noida', 0.6716498732566833),\n",
       " (u'chandigarh', 0.6696014404296875)]"
      ]
     },
     "execution_count": 33,
     "metadata": {},
     "output_type": "execute_result"
    }
   ],
   "source": [
    "model.most_similar(\"gurgaon\")"
   ]
  },
  {
   "cell_type": "code",
   "execution_count": 69,
   "metadata": {
    "collapsed": false
   },
   "outputs": [
    {
     "data": {
      "text/plain": [
       "[(u'decisions', 0.4833126962184906),\n",
       " (u'profit', 0.4789894223213196),\n",
       " (u'wealth', 0.4601295590400696),\n",
       " (u'strategic', 0.45361003279685974),\n",
       " (u'profits', 0.4400383532047272),\n",
       " (u'decisions?', 0.4342345893383026),\n",
       " (u'investments', 0.4176155924797058),\n",
       " (u'career?', 0.4129224419593811),\n",
       " (u'accuracy', 0.41037946939468384),\n",
       " (u'growth', 0.4081226587295532)]"
      ]
     },
     "execution_count": 69,
     "metadata": {},
     "output_type": "execute_result"
    }
   ],
   "source": [
    "model.most_similar(\"progress\")"
   ]
  },
  {
   "cell_type": "code",
   "execution_count": 35,
   "metadata": {
    "collapsed": false
   },
   "outputs": [
    {
     "data": {
      "text/plain": [
       "'india'"
      ]
     },
     "execution_count": 35,
     "metadata": {},
     "output_type": "execute_result"
    }
   ],
   "source": [
    "model.doesnt_match(\"india china pakistan america\".split())"
   ]
  },
  {
   "cell_type": "code",
   "execution_count": 45,
   "metadata": {
    "collapsed": false
   },
   "outputs": [
    {
     "data": {
      "text/plain": [
       "[(u'c++', 0.8924263119697571),\n",
       " (u'java', 0.8640620708465576),\n",
       " (u'javascript', 0.8096544742584229),\n",
       " (u'php', 0.8039913177490234),\n",
       " (u'c#', 0.8006294369697571),\n",
       " (u'node.js', 0.7840451598167419),\n",
       " (u'java,', 0.7787644267082214),\n",
       " (u'framework', 0.7531934976577759),\n",
       " (u'compiler', 0.7440453171730042),\n",
       " (u'gui', 0.7377476096153259)]"
      ]
     },
     "execution_count": 45,
     "metadata": {},
     "output_type": "execute_result"
    }
   ],
   "source": [
    "model.most_similar(\"python\")"
   ]
  },
  {
   "cell_type": "code",
   "execution_count": 52,
   "metadata": {
    "collapsed": false
   },
   "outputs": [
    {
     "data": {
      "text/plain": [
       "[(u'president,', 0.736587643623352),\n",
       " (u'barack', 0.7174814343452454),\n",
       " (u'president?', 0.702446460723877),\n",
       " (u'democratic', 0.6466220617294312),\n",
       " (u'election', 0.628092885017395),\n",
       " (u'presidents', 0.6249065399169922),\n",
       " (u'senate', 0.6182502508163452),\n",
       " (u'michelle', 0.6135854125022888),\n",
       " (u'obama', 0.6084697246551514),\n",
       " (u'republican', 0.608058750629425)]"
      ]
     },
     "execution_count": 52,
     "metadata": {},
     "output_type": "execute_result"
    }
   ],
   "source": [
    "model.most_similar(\"president\")"
   ]
  },
  {
   "cell_type": "code",
   "execution_count": 78,
   "metadata": {
    "collapsed": false
   },
   "outputs": [
    {
     "data": {
      "text/plain": [
       "'go'"
      ]
     },
     "execution_count": 78,
     "metadata": {},
     "output_type": "execute_result"
    }
   ],
   "source": [
    "model.doesnt_match(\"python go c ruby\".split())"
   ]
  },
  {
   "cell_type": "code",
   "execution_count": 75,
   "metadata": {
    "collapsed": false
   },
   "outputs": [
    {
     "data": {
      "text/plain": [
       "[(u'democratic', 0.8069195747375488),\n",
       " (u'nominee', 0.7814033627510071),\n",
       " (u'gop', 0.7736945748329163),\n",
       " (u'congress', 0.7664986848831177),\n",
       " (u'senate', 0.7448658347129822),\n",
       " (u'nomination', 0.7382413148880005),\n",
       " (u'republicans', 0.730698823928833),\n",
       " (u'democrat', 0.7259242534637451),\n",
       " (u'bush', 0.725658655166626),\n",
       " (u'sanders', 0.7251138091087341)]"
      ]
     },
     "execution_count": 75,
     "metadata": {},
     "output_type": "execute_result"
    }
   ],
   "source": [
    "model.most_similar(\"republican\")"
   ]
  },
  {
   "cell_type": "code",
   "execution_count": 76,
   "metadata": {
    "collapsed": false
   },
   "outputs": [
    {
     "data": {
      "text/plain": [
       "[(u'edward', 0.8489305973052979),\n",
       " (u'snowden?', 0.7136738896369934),\n",
       " (u'villain?', 0.6843433380126953),\n",
       " (u'churchill', 0.6828999519348145),\n",
       " (u'gandhi', 0.6602122783660889),\n",
       " (u'assange', 0.6525001525878906),\n",
       " (u'winston', 0.6437071561813354),\n",
       " (u'vladimir', 0.6416062712669373),\n",
       " (u'wayne', 0.6320300102233887),\n",
       " (u'virat', 0.6295807957649231)]"
      ]
     },
     "execution_count": 76,
     "metadata": {},
     "output_type": "execute_result"
    }
   ],
   "source": [
    "model.most_similar(\"snowden\")"
   ]
  },
  {
   "cell_type": "code",
   "execution_count": 57,
   "metadata": {
    "collapsed": false
   },
   "outputs": [
    {
     "data": {
      "text/plain": [
       "[(u'jammu', 0.7813103199005127),\n",
       " (u'pakistan', 0.7283164858818054),\n",
       " (u'turkey', 0.7004218101501465),\n",
       " (u'baluchistan', 0.6616636514663696),\n",
       " (u'terrorists', 0.6552413105964661),\n",
       " (u'kashmir?', 0.6526284217834473),\n",
       " (u'terror', 0.6498570442199707),\n",
       " (u'israel', 0.6436445713043213),\n",
       " (u'uri', 0.6236228942871094),\n",
       " (u'bangladesh', 0.6176635026931763)]"
      ]
     },
     "execution_count": 57,
     "metadata": {},
     "output_type": "execute_result"
    }
   ],
   "source": [
    "model.most_similar(\"kashmir\")"
   ]
  },
  {
   "cell_type": "code",
   "execution_count": 66,
   "metadata": {
    "collapsed": false
   },
   "outputs": [
    {
     "data": {
      "text/plain": [
       "[(u'kashmir', 0.7813103199005127),\n",
       " (u'kashmir?', 0.7253087759017944),\n",
       " (u'bangladesh', 0.6858431100845337),\n",
       " (u'turkey', 0.6817154884338379),\n",
       " (u'terrorists', 0.6760878562927246),\n",
       " (u'pakistan', 0.6544166803359985),\n",
       " (u'nepal', 0.6534942388534546),\n",
       " (u'civilians', 0.6430861949920654),\n",
       " (u'terrorism', 0.6306883096694946),\n",
       " (u'referendum', 0.6304581165313721)]"
      ]
     },
     "execution_count": 66,
     "metadata": {},
     "output_type": "execute_result"
    }
   ],
   "source": [
    "model.most_similar(\"jammu\")"
   ]
  },
  {
   "cell_type": "code",
   "execution_count": 60,
   "metadata": {
    "collapsed": false
   },
   "outputs": [
    {
     "data": {
      "text/plain": [
       "[(u'hockey', 0.7258895635604858),\n",
       " (u'team', 0.6998447775840759),\n",
       " (u'football', 0.6817739605903625),\n",
       " (u'soccer', 0.6758493185043335),\n",
       " (u'players', 0.6554034948348999),\n",
       " (u'cricket?', 0.6540061235427856),\n",
       " (u'cricketer', 0.6526902914047241),\n",
       " (u'batsman', 0.647112250328064),\n",
       " (u'baseball', 0.6466502547264099),\n",
       " (u'teams', 0.6354789137840271)]"
      ]
     },
     "execution_count": 60,
     "metadata": {},
     "output_type": "execute_result"
    }
   ],
   "source": [
    "model.most_similar(\"cricket\")"
   ]
  },
  {
   "cell_type": "code",
   "execution_count": 61,
   "metadata": {
    "collapsed": false
   },
   "outputs": [
    {
     "data": {
      "text/plain": [
       "[(u'mumbai', 0.8118871450424194),\n",
       " (u'pune', 0.766284704208374),\n",
       " (u'chennai', 0.7427168488502502),\n",
       " (u'bangalore', 0.725040078163147),\n",
       " (u'kolkata', 0.7058458924293518),\n",
       " (u'hyderabad', 0.6867603063583374),\n",
       " (u'delhi?', 0.6820129156112671),\n",
       " (u'gurgaon', 0.6684638261795044),\n",
       " (u'jaipur', 0.6347520351409912),\n",
       " (u'noida', 0.6190223693847656)]"
      ]
     },
     "execution_count": 61,
     "metadata": {},
     "output_type": "execute_result"
    }
   ],
   "source": [
    "model.most_similar(\"delhi\")"
   ]
  },
  {
   "cell_type": "code",
   "execution_count": 83,
   "metadata": {
    "collapsed": false
   },
   "outputs": [
    {
     "data": {
      "text/plain": [
       "[(u'film', 0.7513970732688904),\n",
       " (u'movie?', 0.7237291932106018),\n",
       " (u'movies', 0.7145166397094727),\n",
       " (u'song', 0.6670166254043579),\n",
       " (u'movie,', 0.6384402513504028),\n",
       " (u'bollywood', 0.6123643517494202),\n",
       " (u'movies?', 0.5995135307312012),\n",
       " (u'films', 0.5981065034866333),\n",
       " (u'actor', 0.5816435217857361),\n",
       " (u'film?', 0.5730917453765869)]"
      ]
     },
     "execution_count": 83,
     "metadata": {},
     "output_type": "execute_result"
    }
   ],
   "source": [
    "model.most_similar(\"movie\")"
   ]
  },
  {
   "cell_type": "code",
   "execution_count": null,
   "metadata": {
    "collapsed": true
   },
   "outputs": [],
   "source": []
  }
 ],
 "metadata": {
  "anaconda-cloud": {},
  "kernelspec": {
   "display_name": "Python [conda env:tensorflow]",
   "language": "python",
   "name": "conda-env-tensorflow-py"
  },
  "language_info": {
   "codemirror_mode": {
    "name": "ipython",
    "version": 2
   },
   "file_extension": ".py",
   "mimetype": "text/x-python",
   "name": "python",
   "nbconvert_exporter": "python",
   "pygments_lexer": "ipython2",
   "version": "2.7.13"
  }
 },
 "nbformat": 4,
 "nbformat_minor": 1
}
